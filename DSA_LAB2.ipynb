{
 "cells": [
  {
   "cell_type": "markdown",
   "metadata": {},
   "source": [
    " * Name: Myk Angelo M. Magsipoc\n",
    " * CYS: BSCPE 2-3\n",
    " * Subject: Data Structure and Algorithm\n",
    " * Lab Activity 2: Python Review\n",
    " * Deadline: October 1, 2024 11:59 PM"
   ]
  },
  {
   "cell_type": "markdown",
   "metadata": {},
   "source": [
    "### Lab 2 Exercise 1\n",
    "#### A teacher named Mrs. Rivera who loved making math fun for her students. One day, a student named Mia asked how to calculate powers, like (2^7). Mrs. Rivera explained, “Imagine you need to multiply 2 by itself seven times. We can solve this using a python code utilizing  special method called recursion to solve this,” \n",
    "### Can you help the class of Mrs. Rivera by providing the recursive method to calculate powers?"
   ]
  },
  {
   "cell_type": "code",
   "execution_count": null,
   "metadata": {},
   "outputs": [],
   "source": [
    "\n",
    "def calculate_powers(base, exponent):\n",
    "    if exponent == 0:\n",
    "        return 1 # Any case of having a number that is raised to 0 is always equal to 1\n",
    "    else:\n",
    "        # Multiply now the base to the result of base raised to the exponent - 1 using recursion \n",
    "        # Subtracting the exponent by 1 to reduce and simplify the problem size and make it towards to the base case (base^0 = 1)\n",
    "        return base * calculate_powers(base, exponent - 1) \n",
    "\n",
    "# Insert the function inside the variable called result and display it\n",
    "result = calculate_powers(2, 7) \n",
    "print(result)  \n",
    "\n"
   ]
  },
  {
   "cell_type": "markdown",
   "metadata": {},
   "source": [
    "## Lab 2 Exercise 2\n",
    "#### compute for the cube of integers. "
   ]
  },
  {
   "cell_type": "markdown",
   "metadata": {},
   "source": [
    "Steps:\n",
    "1. Input the size of the array.\n",
    "2. input the elements of the array\n",
    "3. display the cube of each element\n",
    "\n",
    "Sample output:\n",
    "\n",
    "* Enter the size of the array : 3\n",
    "* Enter the elements separated by space: 3 10 20\n",
    "* 27\n",
    "* 1000\n",
    "* 8000"
   ]
  },
  {
   "cell_type": "code",
   "execution_count": null,
   "metadata": {},
   "outputs": [],
   "source": [
    "\n",
    "def calculate_cubes():\n",
    "    # Prompt the user for the size of the array\n",
    "    array_size = int(input(\"Enter the size of the array: \"))\n",
    "    # Prompt the user for the elements of the array to calculate its cube\n",
    "    elements = list(map(int, input(\"Enter the elements separated by space(Ex. 3 10 20): \").split()))\n",
    "\n",
    "    # Check if the number of input elements matches the given array size\n",
    "    if len(elements) != array_size:\n",
    "        print(f\"Error: You were supposed to enter {array_size} elements, but you entered {len(elements)} elements.\")\n",
    "    else:\n",
    "       # Calculate the cubes of the given elements\n",
    "       for element in elements:\n",
    "        print(element ** 3)\n",
    "\n",
    "# Call the function\n",
    "calculate_cubes()\n"
   ]
  },
  {
   "cell_type": "markdown",
   "metadata": {},
   "source": [
    "## Lab 2 Exercise 3\n",
    "#### Generate a hollow square based on the + integer input side length n."
   ]
  },
  {
   "cell_type": "code",
   "execution_count": null,
   "metadata": {},
   "outputs": [],
   "source": [
    "Sample output\n",
    "\n",
    "Enter the side length of the square: 6\n",
    "xxxxxx\n",
    "x    x\n",
    "x    x\n",
    "x    x\n",
    "x    x\n",
    "xxxxxx"
   ]
  },
  {
   "cell_type": "code",
   "execution_count": null,
   "metadata": {},
   "outputs": [],
   "source": [
    "\n",
    "# prompt the user for the total side length of the square\n",
    "side_length = int(input(\"Enter the side length of the square: \"))\n",
    "\n",
    "# Use for loop to create the hollow square\n",
    "for i in range(side_length):\n",
    "    if i == 0 or i == side_length  - 1: # If the first or last row is equal to 0 or the side length - 1, print the full line of \"x\"\n",
    "        print('x' * side_length )\n",
    "    else:\n",
    "        # Print the hollow row for the middle part\n",
    "        print('x' + ' ' * (side_length  - 2) + 'x')\n",
    "\n"
   ]
  },
  {
   "cell_type": "markdown",
   "metadata": {},
   "source": [
    "### Lab 2 Exercise 4\n",
    "#### Generate an inverted right triangle of height n."
   ]
  },
  {
   "cell_type": "code",
   "execution_count": null,
   "metadata": {
    "slideshow": {
     "slide_type": "slide"
    }
   },
   "outputs": [],
   "source": [
    "Sample output\n",
    "\n",
    "Enter the height of the triangle: 6\n",
    "******\n",
    "*****\n",
    "****\n",
    "***\n",
    "**\n",
    "*"
   ]
  },
  {
   "cell_type": "code",
   "execution_count": null,
   "metadata": {},
   "outputs": [],
   "source": [
    "# Prompt the user for the size of the triangle\n",
    "height = int(input(\"Enter the height of the triangle: \"))\n",
    "\n",
    "# Use for loop to create a reversed triangle\n",
    "for i in range(height, 0, -1): # Start the loop from the height down to 1 \n",
    "    print(i * \"*\") \n",
    " \n"
   ]
  }
 ],
 "metadata": {
  "kernelspec": {
   "display_name": "Python 3",
   "language": "python",
   "name": "python3"
  },
  "language_info": {
   "codemirror_mode": {
    "name": "ipython",
    "version": 3
   },
   "file_extension": ".py",
   "mimetype": "text/x-python",
   "name": "python",
   "nbconvert_exporter": "python",
   "pygments_lexer": "ipython3",
   "version": "3.12.2"
  }
 },
 "nbformat": 4,
 "nbformat_minor": 2
}
